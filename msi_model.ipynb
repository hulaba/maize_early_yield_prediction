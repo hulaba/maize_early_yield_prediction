{
 "cells": [
  {
   "cell_type": "markdown",
   "metadata": {},
   "source": [
    "# Deep learning model based on spectral feature data\n",
    "\n",
    "This nb shows the code used to run the spectral deep learning model.\n",
    "\n",
    "The data used in this nb was prepared on \"msi_processing.ipynb\""
   ]
  },
  {
   "cell_type": "markdown",
   "metadata": {},
   "source": [
    "This motebook has the code to run the spectral module individually, it employs fastai and pytorch libraries to create to load the data and train the model.\n",
    "\n",
    "The custom functions were created for this project, they are based on fastai and pytorch forum discussions on how to use multispectral images in deep learning."
   ]
  },
  {
   "cell_type": "code",
   "execution_count": null,
   "metadata": {
    "code_folding": []
   },
   "outputs": [],
   "source": [
    "# Load libraries\n",
    "\n",
    "%reload_ext autoreload\n",
    "%autoreload 2\n",
    "%matplotlib inline\n",
    "\n",
    "# Import libraries\n",
    "from fastai.vision.all import *\n",
    "import torch\n",
    "from ipywidgets import IntProgress\n",
    "from glob import glob\n",
    "\n",
    "from sklearn.metrics import mean_squared_error, r2_score\n",
    "from sklearn.model_selection import StratifiedKFold\n",
    "import matplotlib.pyplot as plt\n",
    "import pandas as pd\n",
    "import numpy as np\n",
    "import os\n",
    "import cv2\n",
    "\n",
    "# Custom functions\n",
    "from msi_utils import *\n",
    "from fold_utils import *\n",
    "\n",
    "\n",
    "# Check that you are using gpu, if available\n",
    "device = torch.device('cuda:0' if torch.cuda.is_available() else 'cpu')\n",
    "device"
   ]
  },
  {
   "cell_type": "code",
   "execution_count": null,
   "metadata": {},
   "outputs": [],
   "source": [
    "# Path to where the images are located\n",
    "path = Path('/data/g2f_data/input_data/')"
   ]
  },
  {
   "cell_type": "markdown",
   "metadata": {},
   "source": [
    "## Reference Tables"
   ]
  },
  {
   "cell_type": "code",
   "execution_count": null,
   "metadata": {
    "code_folding": []
   },
   "outputs": [],
   "source": [
    "df_test = pd.read_csv('/data/fielddata/df_test.csv')\n",
    "df_train_val = pd.read_csv('/data/fielddata/df_train_val.csv')"
   ]
  },
  {
   "cell_type": "code",
   "execution_count": null,
   "metadata": {
    "code_folding": []
   },
   "outputs": [],
   "source": [
    "# Use random splitter function from fastai\n",
    "splitter = RandomSplitter(seed=42)\n",
    "splits = splitter(range_of(df_train_val))\n",
    "splits"
   ]
  },
  {
   "cell_type": "markdown",
   "metadata": {},
   "source": [
    "## Kfold validation"
   ]
  },
  {
   "cell_type": "code",
   "execution_count": null,
   "metadata": {
    "code_folding": []
   },
   "outputs": [],
   "source": [
    "# KFOLD VALIDATION\n",
    "val_loss = []\n",
    "rmse_kfold = []\n",
    "rmse_pct_kfold =[]\n",
    "r2_kfold=[]\n",
    "\n",
    "kfold_preds = pd.DataFrame(columns=['predictions', 'target_yield'])\n",
    "split_list = kfold_splitter(df=df_train_val)\n",
    "\n",
    "# Callbacks\n",
    "csvlogger = CSVLogger('/data/results/spectral_5fold_metrics.csv', append=True)\n",
    "early_stopping = EarlyStoppingCallback(monitor='valid_loss', patience=5, min_delta=0.01)\n",
    "cbs = [csvlogger, early_stopping]\n",
    "    \n",
    "for i in range(5):\n",
    "    getter = get_fold(split_list, fold=i)\n",
    "    # Call MSI dataloader\n",
    "    msi_fold = DataBlock(blocks = (MSITensorBlock, RegressionBlock),\n",
    "                          get_items = get_npy,\n",
    "                          get_y = get_y,\n",
    "                          splitter = getter)\n",
    "    msi_dl = msi_fold.dataloaders(df_train_val, bs=8)    \n",
    "    \n",
    "    # Learner\n",
    "    model_msi = xresnet18(n_out=1, c_in=13, pretrained=False, sa=True, p=0.5, ndim=2)\n",
    "    learn_msi = Learner(msi_dl, \n",
    "                model_msi,\n",
    "                opt_func=Adam, \n",
    "                loss_func=root_mean_squared_error,\n",
    "                metrics=[rmse, R2Score()])\n",
    "    \n",
    "    # Disable Fastai progress bar (optional but cleaner)\n",
    "    with learn_msi.no_bar()and learn_msi.no_logging():\n",
    "        learn_msi.fit_one_cycle(100, 1e-3, cbs=cbs)\n",
    "    \n",
    "    df_ymin, df_ymax = df_train_val['Yield'].min(), df_train_val['Yield'].max()\n",
    "    val_loss_k, rmse_k, r2score_k = learn_msi.validate()\n",
    "    val_loss.append(val_loss_k)\n",
    "    rmse_kfold.append(rmse_k)\n",
    "    rmse_pct_kfold.append(((rmse_k/(df_ymax - df_ymin))*100))\n",
    "    r2_kfold.append(r2score_k)\n",
    "    \n",
    "    # Extract the predictions and save in vis_results\n",
    "    ypred, yval = learn_msi.get_preds()\n",
    "\n",
    "    pn = msi_dl.valid_ds.items\n",
    "    images_id = []\n",
    "    for i in range(len(pn)):\n",
    "        name = pn[i].stem\n",
    "        images_id.append(name)\n",
    "    \n",
    "    vis_df = pd.DataFrame()\n",
    "    vis_df['items'] = images_id\n",
    "    vis_df['items'] = vis_df['items'].str.replace('id_', '')\n",
    "    vis_df['predictions'] = ypred.flatten()\n",
    "    vis_df['target_yield'] = yval\n",
    "    vis_df = vis_df.merge(df_train_val, how='left', left_on='items', right_on='Barcode')\n",
    "    \n",
    "    kfold_preds = kfold_preds.append(vis_df)\n",
    "\n",
    "# Allows you to save the predictions performed on each kfold, and then calculate the desired metrics\n",
    "kfold_preds.to_csv('/data/results/spectral_5fold_predictions.csv')"
   ]
  },
  {
   "cell_type": "code",
   "execution_count": null,
   "metadata": {
    "code_folding": []
   },
   "outputs": [],
   "source": [
    "# Stratified kfold with emb_ps, ps and wd for around 18 epochs with early stopping\n",
    "d ={\"validation loss\":val_loss, \"rmse\": rmse_kfold, \"rmse %\": rmse_pct_kfold, \"r2score\":r2_kfold}\n",
    "\n",
    "fastkfold = pd.DataFrame(data=d)\n",
    "fastkfold['rmse %'] = fastkfold['rmse %'].apply(lambda x: np.mean(x))\n",
    "fastkfold.to_csv('/data/results/spetral_5fold_summary_metrics.csv', index=False)\n",
    "fastkfold"
   ]
  },
  {
   "cell_type": "markdown",
   "metadata": {},
   "source": [
    "## Test predictions"
   ]
  },
  {
   "cell_type": "code",
   "execution_count": null,
   "metadata": {
    "code_folding": []
   },
   "outputs": [],
   "source": [
    "data_load = DataBlock(blocks = (MSITensorBlock, RegressionBlock),\n",
    "                          get_items = get_npy,\n",
    "                          get_y = get_y,\n",
    "                          splitter = splitter)\n",
    "    \n",
    "msi_dls = data_load.dataloaders(df_train_val, bs=8)\n",
    "model_msi = xresnet18(n_out=1, c_in=13, pretrained=False, sa=True, p=0.5, ndim=2)\n",
    "early_stopping = EarlyStoppingCallback(monitor='valid_loss', patience=3, min_delta=0.01)\n",
    "\n",
    "learn_msi = Learner(msi_dls, \n",
    "                model_msi,\n",
    "                opt_func=Adam, \n",
    "                loss_func=root_mean_squared_error,\n",
    "                metrics=[rmse, R2Score()])"
   ]
  },
  {
   "cell_type": "code",
   "execution_count": null,
   "metadata": {},
   "outputs": [],
   "source": [
    "learn_msi.fit_one_cycle(100, 1e-3,cbs=early_stopping)"
   ]
  },
  {
   "cell_type": "code",
   "execution_count": null,
   "metadata": {},
   "outputs": [],
   "source": [
    "# Export and save the model\n",
    "learn_msi.save('/data/model_weights/xresnet18_model')\n",
    "\n",
    "# If you want to load the model use the command below\n",
    "# learn_msi.load('/nbs_dir/g2f/model_weights/VIS_resnet18_v5_8epochs_earlystop')"
   ]
  },
  {
   "cell_type": "markdown",
   "metadata": {},
   "source": [
    "The prediction of the test (holdout) dataset is made in two parts."
   ]
  },
  {
   "cell_type": "code",
   "execution_count": null,
   "metadata": {},
   "outputs": [],
   "source": [
    "# Part 1- Load the test set\n",
    "test_dls = data_load.dataloaders(df_test)\n",
    "learn_msi.dls.loaders.append(msi_dls.test_dl(test_dls[0].items, with_labels=True))\n",
    "dl_testing = learn_msi.dls.test_dl(test_dls[0].items, with_labels=True)\n",
    "predicts, targets = learn_msi.get_preds(dl=dl_testing)\n",
    "fi = dl_testing.items\n",
    "\n",
    "images_id = []\n",
    "# Get the items idx\n",
    "for i in range(len(fi)):\n",
    "    name = fi[i].stem\n",
    "    images_id.append(name)\n",
    "\n",
    "test_results = pd.DataFrame()\n",
    "test_results['Items'] = images_id\n",
    "test_results['Items'] = test_results['Items'].str.replace('id_', '')\n",
    "test_results['Predictions'] = predicts.flatten().tolist()\n",
    "test_results['Target_yield'] = targets\n",
    "test_results = test_results.merge(df_test, how='left', left_on='Items', right_on='Barcode')\n"
   ]
  },
  {
   "cell_type": "code",
   "execution_count": null,
   "metadata": {},
   "outputs": [],
   "source": [
    "# Part 2 - Repeat the step above with the second hald of the holdout dataset\n",
    "learn_msi.dls.loaders.append(msi_dls.test_dl(test_dls[1].items, with_labels=True))\n",
    "dl_testing = learn_msi.dls.test_dl(test_dls[1].items, with_labels=True)\n",
    "predicts, targets = learn_msi.get_preds(dl=dl_testing)\n",
    "fi = dl_testing.items\n",
    "\n",
    "images_id = []\n",
    "# Get the items idx\n",
    "for i in range(len(fi)):\n",
    "    name = fi[i].stem\n",
    "    images_id.append(name)\n",
    "\n",
    "test_results1 = pd.DataFrame()\n",
    "test_results1['Items'] = images_id\n",
    "test_results1['Items'] = test_results1['Items'].str.replace('id_', '')\n",
    "test_results1['Predictions'] = predicts.flatten().tolist()\n",
    "test_results1['Target_yield'] = targets\n",
    "test_results1 = test_results1.merge(df_test, how='left', left_on='Items', right_on='Barcode')"
   ]
  },
  {
   "cell_type": "code",
   "execution_count": null,
   "metadata": {
    "code_folding": []
   },
   "outputs": [],
   "source": [
    "test_df = test_results.append(test_results1)\n",
    "test_df.to_csv('/data/results/spetral_prediction_on_holdout_dataset.csv', index=False)"
   ]
  }
 ],
 "metadata": {
  "kernelspec": {
   "display_name": "Python 3",
   "language": "python",
   "name": "python3"
  },
  "language_info": {
   "codemirror_mode": {
    "name": "ipython",
    "version": 3
   },
   "file_extension": ".py",
   "mimetype": "text/x-python",
   "name": "python",
   "nbconvert_exporter": "python",
   "pygments_lexer": "ipython3",
   "version": "3.6.10"
  }
 },
 "nbformat": 4,
 "nbformat_minor": 4
}
