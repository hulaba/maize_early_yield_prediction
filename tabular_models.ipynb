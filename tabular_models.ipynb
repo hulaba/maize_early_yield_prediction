{
 "cells": [
  {
   "cell_type": "markdown",
   "metadata": {},
   "source": [
    "# Machine learning models based on tabular feature data"
   ]
  },
  {
   "cell_type": "markdown",
   "metadata": {},
   "source": [
    "This nb shows the code used to run the machine learning models.\n",
    "\n",
    "The data used in this nb was prepared on \"tab_processing.ipynb\""
   ]
  },
  {
   "cell_type": "code",
   "execution_count": null,
   "metadata": {
    "code_folding": [
     0
    ]
   },
   "outputs": [],
   "source": [
    "# Import libraries\n",
    "from fastai.tabular.all import *\n",
    "from sklearn.ensemble import RandomForestRegressor\n",
    "import xgboost as xgb\n",
    "\n",
    "import matplotlib.pyplot as plt\n",
    "import pandas as pd\n",
    "import numpy as np\n",
    "import os\n",
    "\n",
    "from sklearn.metrics import mean_squared_error, r2_score\n",
    "from sklearn.model_selection import StratifiedKFold\n",
    "\n",
    "# Check if gpu is available\n",
    "device = torch.device('cuda:0' if torch.cuda.is_available() else 'cpu')\n",
    "device"
   ]
  },
  {
   "cell_type": "code",
   "execution_count": null,
   "metadata": {
    "code_folding": []
   },
   "outputs": [],
   "source": [
    "# Load the train/val and test datasets for DNN\n",
    "df_test = pd.read_csv('/data/fielddata/df_test.csv')\n",
    "df_train_val = pd.read_csv('/data/fielddata/df_train_val.csv')\n",
    "\n",
    "# Load the train/val datasets for XGBoost and Random Forest\n",
    "X = pd.read_csv('/data/fielddata/X_ordinal.csv')\n",
    "X_ohe = pd.read_csv('/data/fielddata/X_ohe.csv')\n",
    "Y = pd.read_csv('/data/fielddata/Y.csv')\n",
    "\n",
    "# Load the test datasets for XGBoost and Random Forest\n",
    "Xtest = pd.read_csv('/data/fielddata/Xtest_ordinal.csv')\n",
    "Xtest_ohe = pd.read_csv('/data/fielddata/Xtest_ohe.csv')\n",
    "Ytest = pd.read_csv('/data/fielddata/Ytest.csv')"
   ]
  },
  {
   "cell_type": "code",
   "execution_count": null,
   "metadata": {
    "code_folding": [
     0
    ]
   },
   "outputs": [],
   "source": [
    "# Functions for splitting the dataset into train:validation\n",
    "splitter = RandomSplitter(seed=42)\n",
    "splits = splitter(range_of(df_train_val))\n",
    "splits\n",
    "\n",
    "def kfold_splitter(df, column='Year', splits=5, shuffle=True):\n",
    "    from sklearn.model_selection import StratifiedKFold\n",
    "    kfold = StratifiedKFold(n_splits=splits, shuffle=shuffle)\n",
    "    train_idx = []\n",
    "    val_idx = []\n",
    "\n",
    "    for train_index, val_index in kfold.split(df.index, df[column]):\n",
    "        train_idx.append(L(train_index, use_list=True))\n",
    "        val_idx.append(L(val_index, use_list=True))\n",
    "    \n",
    "    return train_idx, val_idx"
   ]
  },
  {
   "cell_type": "markdown",
   "metadata": {
    "heading_collapsed": true
   },
   "source": [
    "# DNN "
   ]
  },
  {
   "cell_type": "markdown",
   "metadata": {
    "hidden": true
   },
   "source": [
    "## Kfold stratified validation"
   ]
  },
  {
   "cell_type": "code",
   "execution_count": null,
   "metadata": {
    "code_folding": [],
    "hidden": true
   },
   "outputs": [],
   "source": [
    "procs = [Categorify, Normalize, FillMissing]\n",
    "cat_names = ['Parental 1', 'Parental 2', 'Planting', 'Stock', 'Fertilizer']\n",
    "cont_names =['Days_after_sowing']\n",
    "\n",
    "val_loss = []\n",
    "rmse_kfold = []\n",
    "rmse_pct_kfold =[]\n",
    "r2_kfold=[]\n",
    "\n",
    "csvlogger = CSVLogger(f'/data/results/DNN_5fold_metrics.csv', append=True)\n",
    "early_stopping = EarlyStoppingCallback(monitor='valid_loss', patience=3, min_delta=0.01)\n",
    "train_index, val_index = kfold_splitter(df_train_val)\n",
    "\n",
    "for i in range(5):\n",
    "    data_fold = (TabularDataLoaders.from_df(df_train_val,\n",
    "                                            y_names=\"Yield\",\n",
    "                                            cat_names = cat_names,\n",
    "                                            cont_names=cont_names,\n",
    "                                            procs = procs,\n",
    "                                            splits=(train_index[i], val_index[i])))\n",
    "    \n",
    "    config = tabular_config(ps=0.5, embed_p=0.5)\n",
    "    learn = tabular_learner(data_fold,\n",
    "                            config=config,\n",
    "                            layers=[200,100],\n",
    "                            metrics=[rmse, R2Score()],\n",
    "                            opt_func=ranger,\n",
    "                            y_range=[0,20],\n",
    "                            wd=0.3)\n",
    "    \n",
    "    # Disable Fastai progress bar\n",
    "    with learn.no_bar()and learn.no_logging():\n",
    "        learn.fit_one_cycle(100, 1e-3, cbs=[csvlogger, early_stopping])\n",
    "\n",
    "    \n",
    "    df_ymin, df_ymax = df_train_val['Yield'].min(), df_train_val['Yield'].max()\n",
    "    val_loss_k, rmse_k, r2score_k = learn.validate()\n",
    "    val_loss.append(val_loss_k)\n",
    "    rmse_kfold.append(rmse_k)\n",
    "    rmse_pct_kfold.append(((rmse_k/(df_ymax - df_ymin))*100))\n",
    "    r2_kfold.append(r2score_k)"
   ]
  },
  {
   "cell_type": "code",
   "execution_count": null,
   "metadata": {
    "code_folding": [],
    "hidden": true
   },
   "outputs": [],
   "source": [
    "# Stratified kfold metrics per round\n",
    "d ={\"validation loss\":val_loss, \"rmse\": rmse_kfold, \"rmse %\": rmse_pct_kfold, \"r2score\":r2_kfold}\n",
    "\n",
    "dnnkfold = pd.DataFrame(data=d)\n",
    "dnnkfold['rmse %'] = fastkfold['rmse %'].apply(lambda x: np.mean(x))\n",
    "dnnkfold.to_csv('/data/results/DNN_5fold_summary_metrics.csv', index=False)"
   ]
  },
  {
   "cell_type": "markdown",
   "metadata": {
    "heading_collapsed": true,
    "hidden": true
   },
   "source": [
    "## Test predictions\n",
    "\n",
    "Train a DNN model and to measure the performance of the model in the holdout dataset."
   ]
  },
  {
   "cell_type": "code",
   "execution_count": null,
   "metadata": {
    "hidden": true
   },
   "outputs": [],
   "source": [
    "procs = [Categorify, Normalize, FillMissing]\n",
    "cat_names = [ 'Parental 1', 'Parental 2', 'Planting', 'Stock', 'Fertilizer']\n",
    "cont_names =['Days_after_sowing']\n",
    "\n",
    "data_init = (TabularDataLoaders.from_df(df_train_val,\n",
    "                                        y_names=\"Yield\",\n",
    "                                        cat_names=cat_names,\n",
    "                                        cont_names=cont_names,\n",
    "                                        procs = procs,\n",
    "                                        splits=splits))\n",
    "\n",
    "config = tabular_config(ps=0.5, embed_p=0.5)\n",
    "\n",
    "learn_tab = tabular_learner(data_init,\n",
    "                            config=config,\n",
    "                            layers=[200,100],\n",
    "                            metrics=[rmse, R2Score()],\n",
    "                            opt_func=ranger,\n",
    "                            y_range=[0,20],\n",
    "                            wd=0.3)\n",
    "\n",
    "#Callbacks \n",
    "early_stopping = EarlyStoppingCallback(monitor='valid_loss', patience=3, min_delta=0.01)\n",
    "learn_tab.fit_one_cycle(100, 1e-3, cbs=[early_stopping])\n",
    "\n",
    "# Export and save the model\n",
    "learn_tab.save('/data/model_weights/DNN_model')"
   ]
  },
  {
   "cell_type": "code",
   "execution_count": null,
   "metadata": {
    "hidden": true
   },
   "outputs": [],
   "source": [
    "# If you want to load the model use the command below\n",
    "#learn_tab.load('/data/model_weights/DNN_model')"
   ]
  },
  {
   "cell_type": "code",
   "execution_count": null,
   "metadata": {
    "hidden": true
   },
   "outputs": [],
   "source": [
    "# predict the grain yield in the holdout dataset\n",
    "dl = learn_tab.dls.test_dl(df_test)\n",
    "test_preds = learn_tab.get_preds(dl=dl, reorder=False)\n",
    "test_2019 = dl.dataset.decode()\n",
    "df_test2019 = pd.DataFrame()\n",
    "\n",
    "df_test2019['Stock'] = df_test['Stock']\n",
    "df_test2019['Parental 1'] = df_test['Parental 1']\n",
    "df_test2019['Parental 2'] = df_test['Parental 2']\n",
    "df_test2019['Planting'] = df_test['Planting']\n",
    "df_test2019['Fertilizer'] = df_test['Fertilizer']\n",
    "df_test2019['Days_after_sowing'] = df_test['Days_after_sowing']\n",
    "\n",
    "df_test2019['Yield'] = df_test['Yield']\n",
    "df_test2019['Predictions'] = test_preds[0].flatten()\n",
    "\n",
    "df_test2019.to_csv('/data/results/DNN_prediction_on_holdout_dataset.csv')"
   ]
  },
  {
   "cell_type": "markdown",
   "metadata": {},
   "source": [
    "# XGBoost kfold"
   ]
  },
  {
   "cell_type": "markdown",
   "metadata": {},
   "source": [
    "### Ordinal encoding"
   ]
  },
  {
   "cell_type": "code",
   "execution_count": null,
   "metadata": {
    "code_folding": []
   },
   "outputs": [],
   "source": [
    "# Kfold validation with XGB\n",
    "rmse_kfold = []\n",
    "rmse_pct_kfold =[]\n",
    "r2_kfold=[]\n",
    "\n",
    "train_index, val_index = kfold_splitter(df_train_val)\n",
    "\n",
    "for i in range(5):\n",
    "    Xtrain, Xval = X.iloc[train_index[i]], X.iloc[val_index[i]]\n",
    "    ytrain, yval = Y[train_index[i]], Y[val_index[i]]\n",
    "    \n",
    "    xgb_model = xgb.XGBRegressor(objective='reg:squarederror',\n",
    "                                 subsample=0.75,\n",
    "                                 max_depth=9,\n",
    "                                 eta=1e-2,\n",
    "                                 n_estimators=150,\n",
    "                                 min_child_weight=0.35)\n",
    "    \n",
    "    xgb_model.fit(X_train, y_train)\n",
    "    \n",
    "    # Metrics\n",
    "    ypred = xgb_model.predict(Xval)\n",
    "    df_ymin, df_ymax = df_train_val['Yield'].min(), df_train_val['Yield'].max()\n",
    "    mse_val = mean_squared_error(yval, ypred)\n",
    "    \n",
    "    rmse_k = mse_val**(1/2.0)\n",
    "    rmse_kfold.append(rmse_k)\n",
    "    rmse_pct_kfold.append(((rmse_k/(df_ymax - df_ymin))*100))\n",
    "    r2_kfold.append(r2_score(yval, ypred))"
   ]
  },
  {
   "cell_type": "code",
   "execution_count": null,
   "metadata": {},
   "outputs": [],
   "source": [
    "d ={\"rmse\": rmse_kfold, \"rmse %\": rmse_pct_kfold, \"r2score\":r2_kfold}\n",
    "xgbfold = pd.DataFrame(data=d)\n",
    "xgbfold['rmse %'] = xgbfold['rmse %'].apply(lambda x: np.mean(x))\n",
    "xgbfold.to_csv('/data/results/XGB_5fold_summary_metrics.csv', index=False)\n",
    "xgbfold"
   ]
  },
  {
   "cell_type": "code",
   "execution_count": null,
   "metadata": {
    "code_folding": []
   },
   "outputs": [],
   "source": [
    "# Metrics\n",
    "ypred = xgb_model.predict(Xtest)\n",
    "test_df = df_test.copy()\n",
    "test_df['Predictions'] = ypred\n",
    "test_df.to_csv('/data/results/XGB_prediction_on_holdout_dataset.csv')"
   ]
  },
  {
   "cell_type": "markdown",
   "metadata": {
    "heading_collapsed": true
   },
   "source": [
    "### OHE\n"
   ]
  },
  {
   "cell_type": "code",
   "execution_count": null,
   "metadata": {
    "hidden": true
   },
   "outputs": [],
   "source": [
    "# Kfold validation with XGB\n",
    "rmse_kfold = []\n",
    "rmse_pct_kfold =[]\n",
    "r2_kfold=[]\n",
    "\n",
    "train_index, val_index = kfold_splitter(df_train_val)\n",
    "\n",
    "for i in range(5):\n",
    "    Xtrain, Xval = X_ohe.iloc[train_index[i]], X_ohe.iloc[val_index[i]]\n",
    "    ytrain, yval = Y[train_index[i]], Y[val_index[i]]\n",
    "    \n",
    "    xgb_model = xgb.XGBRegressor(objective='reg:squarederror',\n",
    "                                 subsample=0.75,\n",
    "                                 max_depth=9,\n",
    "                                 eta=1e-2,\n",
    "                                 n_estimators=150,\n",
    "                                 min_child_weight=0.35)\n",
    "    \n",
    "    xgb_model.fit(Xtrain, ytrain)\n",
    "    \n",
    "    # Metrics\n",
    "    ypred = xgb_model.predict(Xval)\n",
    "    df_ymin, df_ymax = df_train_val['Yield'].min(), df_train_val['Yield'].max()\n",
    "    mse_val = mean_squared_error(yval, ypred)\n",
    "    \n",
    "    rmse_k = mse_val**(1/2.0)\n",
    "    rmse_kfold.append(rmse_k)\n",
    "    rmse_pct_kfold.append(((rmse_k/(df_ymax - df_ymin))*100))\n",
    "    r2_kfold.append(r2_score(yval, ypred))"
   ]
  },
  {
   "cell_type": "code",
   "execution_count": null,
   "metadata": {
    "hidden": true
   },
   "outputs": [],
   "source": [
    "d ={\"rmse\": rmse_kfold, \"rmse %\": rmse_pct_kfold, \"r2score\":r2_kfold}\n",
    "xgbfold = pd.DataFrame(data=d)\n",
    "xgbfold['rmse %'] = xgbfold['rmse %'].apply(lambda x: np.mean(x))\n",
    "xgbfold.to_csv('/data/results/XGB_OHE_5fold_summary_metrics.csv')\n",
    "xgbfold"
   ]
  },
  {
   "cell_type": "code",
   "execution_count": null,
   "metadata": {
    "code_folding": [],
    "hidden": true
   },
   "outputs": [],
   "source": [
    "# Predict the test dataset\n",
    "ypred = xgb_model.predict(testX)\n",
    "df = df_test.copy()\n",
    "df['Predicted'] = ypred\n",
    "df.to_csv('/data/results/XGB_OHE_prediction_on_holdout_dataset.csv')"
   ]
  },
  {
   "cell_type": "markdown",
   "metadata": {},
   "source": [
    "# Random Forests kfold"
   ]
  },
  {
   "cell_type": "markdown",
   "metadata": {
    "heading_collapsed": true
   },
   "source": [
    "### Ordinal encoding"
   ]
  },
  {
   "cell_type": "code",
   "execution_count": null,
   "metadata": {
    "hidden": true
   },
   "outputs": [],
   "source": [
    "# Kfold validation with Random Forests\n",
    "rmse_kfold = []\n",
    "rmse_pct_kfold =[]\n",
    "r2_kfold=[]\n",
    "\n",
    "train_index, val_index = kfold_splitter(df_train_val)\n",
    "\n",
    "for i in range(5):\n",
    "    Xtrain, Xval = X.iloc[train_index[i]], X.iloc[val_index[i]]\n",
    "    ytrain, yval = Y[train_index[i]], Y[val_index[i]]\n",
    "    \n",
    "    rf = RandomForestRegressor(n_estimators=100, random_state=10)\n",
    "    rf.fit(Xtrain, ytrain)\n",
    "    \n",
    "    # Metrics\n",
    "    ypred = rf.predict(Xval)\n",
    "    df_ymin, df_ymax = df_train_val['Yield'].min(), df_train_val['Yield'].max()\n",
    "    mse_val = mean_squared_error(yval, ypred)\n",
    "    \n",
    "    rmse_k = mse_val**(1/2.0)\n",
    "    rmse_kfold.append(rmse_k)\n",
    "    rmse_pct_kfold.append(((rmse_k/(df_ymax - df_ymin))*100))\n",
    "    r2_kfold.append(r2_score(yval, ypred))\n",
    "    "
   ]
  },
  {
   "cell_type": "code",
   "execution_count": null,
   "metadata": {
    "hidden": true
   },
   "outputs": [],
   "source": [
    "d ={\"rmse\": rmse_kfold, \"rmse %\": rmse_pct_kfold, \"r2score\":r2_kfold}\n",
    "rffold = pd.DataFrame(data=d)\n",
    "rffold['rmse %'] = rffold['rmse %'].apply(lambda x: np.mean(x))\n",
    "rffold.to_csv('/data/results/RF_5fold_summary_metrics.csv')\n",
    "rffold"
   ]
  },
  {
   "cell_type": "code",
   "execution_count": null,
   "metadata": {
    "hidden": true
   },
   "outputs": [],
   "source": [
    "# # Metrics\n",
    "ypred = rf.predict(Xtest)\n",
    "df = df_test.copy()\n",
    "df['Predicted'] = ypred\n",
    "df_ymin, df_ymax = df['Yield'].min(), df['Yield'].max()\n",
    "df.to_csv('/data/results/RF_prediction_on_holdout_dataset.csv')"
   ]
  },
  {
   "cell_type": "markdown",
   "metadata": {},
   "source": [
    "### OHE"
   ]
  },
  {
   "cell_type": "code",
   "execution_count": null,
   "metadata": {},
   "outputs": [],
   "source": [
    "# Kfold validation with Random Forests\n",
    "rmse_kfold = []\n",
    "rmse_pct_kfold =[]\n",
    "r2_kfold=[]\n",
    "\n",
    "train_index, val_index = kfold_splitter(df_train_val)\n",
    "\n",
    "for i in range(5):\n",
    "    Xtrain, Xval = X_ohe.iloc[train_index[i]], X_ohe.iloc[val_index[i]]\n",
    "    ytrain, yval = Y[train_index[i]], Y[val_index[i]]\n",
    "    \n",
    "    rf_ohe = RandomForestRegressor(n_estimators=100, random_state=10)\n",
    "    rf_ohe.fit(Xtrain, ytrain)\n",
    "    \n",
    "    # Metrics\n",
    "    ypred = rf_ohe.predict(Xval)\n",
    "    df_ymin, df_ymax = df_train_val['Yield'].min(), df_train_val['Yield'].max()\n",
    "    mse_val = mean_squared_error(yval, ypred)\n",
    "    \n",
    "    rmse_k = mse_val**(1/2.0)\n",
    "    rmse_kfold.append(rmse_k)\n",
    "    rmse_pct_kfold.append(((rmse_k/(df_ymax - df_ymin))*100))\n",
    "    r2_kfold.append(r2_score(yval, ypred))\n",
    "    "
   ]
  },
  {
   "cell_type": "code",
   "execution_count": null,
   "metadata": {},
   "outputs": [],
   "source": [
    "d ={\"rmse\": rmse_kfold, \"rmse %\": rmse_pct_kfold, \"r2score\":r2_kfold}\n",
    "rffold = pd.DataFrame(data=d)\n",
    "rffold['rmse %'] = rffold['rmse %'].apply(lambda x: np.mean(x))\n",
    "rffold.to_csv('/data/results/RF_OHE_5fold_summary_metrics.csv', index=False)"
   ]
  },
  {
   "cell_type": "code",
   "execution_count": null,
   "metadata": {},
   "outputs": [],
   "source": [
    "# Predict grain yield on the holdout dataset\n",
    "ypred = rf_ohe.predict(testX)\n",
    "df = df_test.copy()\n",
    "df['Predicted'] = ypred\n",
    "df.to_csv('/data/results/RF_OHE_prediction_on_holdout_dataset.csv')"
   ]
  }
 ],
 "metadata": {
  "kernelspec": {
   "display_name": "Python 3",
   "language": "python",
   "name": "python3"
  },
  "language_info": {
   "codemirror_mode": {
    "name": "ipython",
    "version": 3
   },
   "file_extension": ".py",
   "mimetype": "text/x-python",
   "name": "python",
   "nbconvert_exporter": "python",
   "pygments_lexer": "ipython3",
   "version": "3.6.10"
  }
 },
 "nbformat": 4,
 "nbformat_minor": 4
}
